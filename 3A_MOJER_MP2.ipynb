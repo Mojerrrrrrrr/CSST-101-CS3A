{
  "nbformat": 4,
  "nbformat_minor": 0,
  "metadata": {
    "colab": {
      "provenance": []
    },
    "kernelspec": {
      "name": "python3",
      "display_name": "Python 3"
    },
    "language_info": {
      "name": "python"
    }
  },
  "cells": [
    {
      "cell_type": "markdown",
      "source": [
        "# 1. Basic Operations"
      ],
      "metadata": {
        "id": "O0F2L1b8pm8v"
      }
    },
    {
      "cell_type": "code",
      "execution_count": null,
      "metadata": {
        "id": "-fiJc3J3iTiC"
      },
      "outputs": [],
      "source": [
        "def and_operation(p, q):\n",
        "    \"\"\"Logical conjunction (AND).\"\"\"\n",
        "    return p and q\n",
        "\n",
        "def or_operation(p, q):\n",
        "    \"\"\"Logical disjunction (OR).\"\"\"\n",
        "    return p or q\n",
        "\n",
        "def not_operation(p):\n",
        "    \"\"\"Logical negation (NOT).\"\"\"\n",
        "    return not p\n",
        "\n",
        "def implies_operation(p, q):\n",
        "    \"\"\"Logical implication (IMPLIES).\"\"\"\n",
        "    return not p or q"
      ]
    },
    {
      "cell_type": "markdown",
      "source": [
        "# 2. Evaluate Logical Statements\n",
        "To evaluate logical statements, we can create a function that parses a string representation of the logical expression and evaluates it based on the provided truth values."
      ],
      "metadata": {
        "id": "JvcF2kNKpqqb"
      }
    },
    {
      "cell_type": "code",
      "source": [
        "def evaluate(statement, values):\n",
        "    \"\"\"Evaluate a logical statement based on given truth values.\"\"\"\n",
        "\n",
        "    statement = statement.replace('AND', 'and').replace('OR', 'or').replace('NOT', 'not')\n",
        "    statement = statement.replace('(', ' ( ').replace(')', ' ) ')\n",
        "\n",
        "    tokens = statement.split()\n",
        "\n",
        "    stack = []\n",
        "\n",
        "    for token in tokens:\n",
        "        if token in values:\n",
        "            stack.append(values[token])\n",
        "        elif token == 'not':\n",
        "            stack.append(not stack.pop())\n",
        "        elif token in ['and', 'or']:\n",
        "            right = stack.pop()\n",
        "            left = stack.pop()\n",
        "            if token == 'and':\n",
        "                stack.append(left and right)\n",
        "            elif token == 'or':\n",
        "                stack.append(left or right)\n",
        "        else:\n",
        "            raise ValueError(f\"Unknown token: {token}\")\n",
        "\n",
        "    return stack[0] if stack else None"
      ],
      "metadata": {
        "id": "QMX8S8gGpu9g"
      },
      "execution_count": null,
      "outputs": []
    },
    {
      "cell_type": "markdown",
      "source": [
        "# Example Usage"
      ],
      "metadata": {
        "id": "Ath0Q0Qcp1_Y"
      }
    },
    {
      "cell_type": "code",
      "source": [
        "def evaluate(statement, values):\n",
        "    \"\"\"Evaluate a logical statement based on given truth values.\"\"\"\n",
        "\n",
        "    statement = statement.replace('AND', ' and ').replace('OR', ' or ').replace('NOT', ' not ') # Add spaces around operators\n",
        "    statement = statement.replace('(', '( ').replace(')', ' ) ')\n",
        "\n",
        "    tokens = statement.split()\n",
        "\n",
        "    stack = []\n",
        "\n",
        "    for token in tokens:\n",
        "        if token in values:\n",
        "            stack.append(values[token])\n",
        "        elif token == 'not':\n",
        "            if stack: # Check if stack is not empty before popping\n",
        "                stack.append(not stack.pop())\n",
        "        elif token in ['and', 'or']:\n",
        "            if len(stack) >= 2: # Check if there are enough operands\n",
        "                right = stack.pop()\n",
        "                left = stack.pop()\n",
        "                if token == 'and':\n",
        "                    stack.append(left and right)\n",
        "                elif token == 'or':\n",
        "                    stack.append(left or right)\n",
        "        # Removed the else block as it was raising a ValueError for parentheses\n",
        "\n",
        "    return stack[0] if stack else None"
      ],
      "metadata": {
        "id": "yAS_E5anp24n"
      },
      "execution_count": null,
      "outputs": []
    },
    {
      "cell_type": "markdown",
      "source": [
        "# Predicate Logic with Quantifiers\n",
        "1. Universal Quantifier (∀)\n",
        "The forall function checks if a given predicate holds true for all elements in a specified domain.\n",
        "2. Existential Quantifier (∃)\n",
        "The exists function checks if there is at least one element in the specified domain for which the predicate holds true.\n",
        "Implementation\n",
        "Here’s how you can implement these functions in Python:"
      ],
      "metadata": {
        "id": "IcNWZ5s_qfw0"
      }
    },
    {
      "cell_type": "code",
      "source": [
        "def forall(predicate, domain):\n",
        "    \"\"\"Evaluate the universal quantifier (FOR ALL).\"\"\"\n",
        "    return all(predicate(x) for x in domain)\n",
        "\n",
        "def exists(predicate, domain):\n",
        "    \"\"\"Evaluate the existential quantifier (EXISTS).\"\"\"\n",
        "    return any(predicate(x) for x in domain)"
      ],
      "metadata": {
        "id": "QAmduvjbqloi"
      },
      "execution_count": null,
      "outputs": []
    },
    {
      "cell_type": "markdown",
      "source": [
        "# Example Usage of Quantifiers"
      ],
      "metadata": {
        "id": "KWcv4xuZqn9e"
      }
    },
    {
      "cell_type": "code",
      "source": [
        "# Define a predicate function\n",
        "def is_even(x):\n",
        "    \"\"\"Predicate to check if a number is even.\"\"\"\n",
        "    return x % 2 == 0\n",
        "\n",
        "def is_positive(x):\n",
        "    \"\"\"Predicate to check if a number is positive.\"\"\"\n",
        "    return x > 0\n",
        "\n",
        "# Define a domain\n",
        "domain = range(-5, 6)  # Numbers from -5 to 5\n",
        "\n",
        "# Evaluate universal quantifier\n",
        "all_even = forall(is_even, domain)  # Should return False\n",
        "print(f\"All numbers are even: {all_even}\")\n",
        "\n",
        "# Evaluate existential quantifier\n",
        "any_even = exists(is_even, domain)  # Should return True\n",
        "print(f\"Any number is even: {any_even}\")\n",
        "\n",
        "# Evaluate universal quantifier for positive numbers\n",
        "all_positive = forall(is_positive, domain)  # Should return False\n",
        "print(f\"All numbers are positive: {all_positive}\")\n",
        "\n",
        "# Evaluate existential quantifier for positive numbers\n",
        "any_positive = exists(is_positive, domain)  # Should return True\n",
        "print(f\"Any number is positive: {any_positive}\")"
      ],
      "metadata": {
        "colab": {
          "base_uri": "https://localhost:8080/"
        },
        "id": "C3yTKcWHqrQT",
        "outputId": "c554c0c6-9811-4aab-ea94-837acd738f59"
      },
      "execution_count": null,
      "outputs": [
        {
          "output_type": "stream",
          "name": "stdout",
          "text": [
            "All numbers are even: False\n",
            "Any number is even: True\n",
            "All numbers are positive: False\n",
            "Any number is positive: True\n"
          ]
        }
      ]
    },
    {
      "cell_type": "markdown",
      "source": [
        "# Conclusion\n",
        "\n",
        "The forall and exists functions allow you to evaluate predicate logic statements efficiently over a specified domain. You can define any predicate function that takes a single argument and returns a boolean value, enabling you to check various conditions across different sets of data. This setup provides a flexible way to work with predicate logic in Python."
      ],
      "metadata": {
        "id": "AU7HsZk0qxEv"
      }
    },
    {
      "cell_type": "markdown",
      "source": [
        "# Scenario: Simple Game AI Agent\n",
        "1. Define the Scenario\n",
        "\n",
        "Let’s create a simple scenario where an AI agent is playing a turn-based game. The agent has two possible actions: \"Attack\" or \"Defend.\" The decision to take one action over the other will depend on the following conditions:\n",
        "If the agent's health is above 50%, it will \"Attack.\"\n",
        "If the agent's health is 50% or below, it will \"Defend.\"\n",
        "If the opponent's health is below 30%, the agent will \"Attack\" regardless of its own health.\n",
        "2. Implementing the Decision Logic\n",
        "\n",
        "We will use the logical functions we created earlier to implement this decision-making process."
      ],
      "metadata": {
        "id": "wZo0YM8juK18"
      }
    },
    {
      "cell_type": "code",
      "source": [
        "def and_operation(p, q):\n",
        "    \"\"\"Logical conjunction (AND).\"\"\"\n",
        "    return p and q\n",
        "\n",
        "def or_operation(p, q):\n",
        "    \"\"\"Logical disjunction (OR).\"\"\"\n",
        "    return p or q\n",
        "\n",
        "def not_operation(p):\n",
        "    \"\"\"Logical negation (NOT).\"\"\"\n",
        "    return not p\n",
        "\n",
        "def implies_operation(p, q):\n",
        "    \"\"\"Logical implication (IMPLIES).\"\"\"\n",
        "    return not p or q\n",
        "\n",
        "def evaluate(statement, values):\n",
        "    \"\"\"Evaluate a logical statement based on given truth values.\"\"\"\n",
        "    # Replace logical operators with Python equivalents\n",
        "    statement = statement.replace('AND', 'and').replace('OR', 'or').replace('NOT', 'not')\n",
        "    statement = statement.replace('(', ' ( ').replace(')', ' ) ')\n",
        "\n",
        "    # Split the statement into tokens\n",
        "    tokens = statement.split()\n",
        "\n",
        "    # Evaluate the statement using a stack\n",
        "    stack = []\n",
        "\n",
        "    for token in tokens:\n",
        "        if token in values:\n",
        "            stack.append(values[token])\n",
        "        elif token == 'not':\n",
        "            stack.append(not stack.pop())\n",
        "        elif token in ['and', 'or']:\n",
        "            right = stack.pop()\n",
        "            left = stack.pop()\n",
        "            if token == 'and':\n",
        "                stack.append(left and right)\n",
        "            elif token == 'or':\n",
        "                stack.append(left or right)\n",
        "        else:\n",
        "            raise ValueError(f\"Unknown token: {token}\")\n",
        "\n",
        "    return stack[0] if stack else None\n",
        "\n",
        "def forall(predicate, domain):\n",
        "    \"\"\"Evaluate the universal quantifier (FOR ALL).\"\"\"\n",
        "    return all(predicate(x) for x in domain)\n",
        "\n",
        "def exists(predicate, domain):\n",
        "    \"\"\"Evaluate the existential quantifier (EXISTS).\"\"\"\n",
        "    return any(predicate(x) for x in domain)\n",
        "\n",
        "class SimpleAIAgent:\n",
        "    def __init__(self, health, opponent_health):\n",
        "        self.health = health\n",
        "        self.opponent_health = opponent_health\n",
        "\n",
        "    def decide_action(self):\n",
        "        \"\"\"Decide whether to 'Attack' or 'Defend' based on health conditions.\"\"\"\n",
        "        # Define the decision logic\n",
        "        attack_condition = (self.health > 50) or (self.opponent_health < 30)\n",
        "        defend_condition = self.health <= 50\n",
        "\n",
        "        # Use logical operations to determine action\n",
        "        if and_operation(attack_condition, not_operation(defend_condition)):\n",
        "            return \"Attack\"\n",
        "        elif defend_condition:\n",
        "            return \"Defend\"\n",
        "        else:\n",
        "            return \"Attack\"  # Default action if no other conditions met"
      ],
      "metadata": {
        "id": "OGQzEDXfuRKt"
      },
      "execution_count": 15,
      "outputs": []
    },
    {
      "cell_type": "markdown",
      "source": [
        "# Explanation\n",
        "1. Agent Initialization: The SimpleAIAgent class is initialized with health and opponent health.\n",
        "\n",
        "2. Decision Logic: The decide_action method uses logical conditions to determine whether to \"Attack\" or \"Defend\":\n",
        "It checks if the agent's health is greater than 50% or if the opponent's health is below 30%. If either condition is true, the agent chooses to \"Attack.\"\n",
        "If the agent's health is 50% or below, it will \"Defend.\"\n",
        "\n",
        "3. Example Usage: The agent's decisions are demonstrated with different health values.\n",
        "\n",
        "## Conclusion\n",
        "This simple AI agent uses logical reasoning to make decisions based on its health and the opponent's health. You can expand this model further by adding more complex conditions, additional actions, or even integrating it into a more extensive game framework. This approach provides a solid foundation for developing more sophisticated AI agents that rely on logical reasoning for decision-making."
      ],
      "metadata": {
        "id": "8bwqn3ghuXqi"
      }
    }
  ]
}